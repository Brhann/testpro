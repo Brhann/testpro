{
 "cells": [
  {
   "cell_type": "markdown",
   "id": "5e8780ab-8a74-4c26-8a32-7a230846d3cf",
   "metadata": {},
   "source": [
    "# Exercise 2(1pt) Title:Project 1\n"
   ]
  },
  {
   "cell_type": "markdown",
   "id": "d77aef33-316f-45ba-8df3-9fa5e2436351",
   "metadata": {},
   "source": [
    "## Exercise 3(1pt) :Introduction\n",
    "This notebook explores various concepts in data science and demonstrates basic arithmetic operations and conversions.\n"
   ]
  },
  {
   "cell_type": "markdown",
   "id": "1988aa1a-bb21-4524-850c-307e403be95d",
   "metadata": {},
   "source": [
    "## Exercise 4(3pts):Data Science Languages\n",
    "- Python\n",
    "- R\n",
    "- SQL\n"
   ]
  },
  {
   "cell_type": "markdown",
   "id": "74fc7199-3819-409a-95d9-36ed5f04168c",
   "metadata": {},
   "source": [
    "## Exercise 5(3pts):Data Science Libraries\n",
    "- NumPy\n",
    "- Pandas\n",
    "- Matplotlib\n",
    "- Seaborn\n"
   ]
  },
  {
   "cell_type": "markdown",
   "id": "2d6b8f13-65bb-47f9-b5cc-a12fa4790e15",
   "metadata": {},
   "source": [
    "## Exercise 6(3pts):Data Science Tools\n",
    "| Tool       | Description           |\n",
    "|------------|-----------------------|\n",
    "| Jupyter    | Interactive computing |\n",
    "| TensorFlow | Machine learning      |\n",
    "| scikit-learn | Machine learning     |\n",
    "| Spark      | Big data processing   |\n"
   ]
  },
  {
   "cell_type": "markdown",
   "id": "fb872784-f1f5-4264-8c6e-2f2075bb3146",
   "metadata": {},
   "source": [
    "## Exercise 7(1pt):Arithmetic Expressions Examples\n",
    "Let's explore some basic arithmetic operations using Python.\n"
   ]
  },
  {
   "cell_type": "code",
   "execution_count": 30,
   "id": "dde54158-0912-4bfc-a158-48299cacc65d",
   "metadata": {},
   "outputs": [
    {
     "name": "stdout",
     "output_type": "stream",
     "text": [
      "Result of multiplication: 50\n",
      "Result of addition: 15\n"
     ]
    }
   ],
   "source": [
    "# Exercise 8(2pts) - Multiply and Add Numbers (2 pts)\n",
    "a = 5\n",
    "b = 10\n",
    "result_multiply = a * b\n",
    "result_add = a + b\n",
    "print(\"Result of multiplication:\", result_multiply)\n",
    "print(\"Result of addition:\", result_add)\n"
   ]
  },
  {
   "cell_type": "code",
   "execution_count": 32,
   "id": "91b43332-fe2c-4c17-b1e1-9a09fcc01aeb",
   "metadata": {},
   "outputs": [
    {
     "name": "stdout",
     "output_type": "stream",
     "text": [
      "120 minutes is equal to 2.0 hours\n"
     ]
    }
   ],
   "source": [
    "# Exercise 9(2pts) - Convert Minutes to Hours (2 pts)\n",
    "minutes = 120\n",
    "hours = minutes / 60\n",
    "print(\"120 minutes is equal to\", hours, \"hours\")\n"
   ]
  },
  {
   "cell_type": "markdown",
   "id": "3fe936f8-2b61-4c98-a6f1-d657d66bcb3e",
   "metadata": {},
   "source": [
    "## Exercise 10(3pt - List Objectives (3 pts)\n",
    "- Perform basic arithmetic operations in Python.\n",
    "- Convert units of measurement.\n",
    "- Introduce data science languages and libraries.\n"
   ]
  },
  {
   "cell_type": "markdown",
   "id": "b501c022-d6ed-4299-b12a-70d9d2bf1bf1",
   "metadata": {},
   "source": [
    "## Exercise 11 - Author's Name (2 pts)\n",
    "- Brhan Zelalem\n"
   ]
  },
  {
   "cell_type": "code",
   "execution_count": null,
   "id": "e532d583-e257-486c-a497-c5203760b6fd",
   "metadata": {},
   "outputs": [],
   "source": []
  }
 ],
 "metadata": {
  "kernelspec": {
   "display_name": "anaconda-panel-2023.05-py310",
   "language": "python",
   "name": "conda-env-anaconda-panel-2023.05-py310-py"
  },
  "language_info": {
   "codemirror_mode": {
    "name": "ipython",
    "version": 3
   },
   "file_extension": ".py",
   "mimetype": "text/x-python",
   "name": "python",
   "nbconvert_exporter": "python",
   "pygments_lexer": "ipython3",
   "version": "3.11.5"
  }
 },
 "nbformat": 4,
 "nbformat_minor": 5
}
